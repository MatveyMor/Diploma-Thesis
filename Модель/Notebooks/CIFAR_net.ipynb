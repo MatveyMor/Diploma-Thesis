{
 "cells": [
  {
   "cell_type": "markdown",
   "metadata": {
    "colab_type": "text",
    "id": "Vshq99iIbN4k"
   },
   "source": [
    "## Lab 3"
   ]
  },
  {
   "cell_type": "markdown",
   "metadata": {
    "colab_type": "text",
    "id": "DDaRsOpubN41"
   },
   "source": [
    "### Part 1. Overfit it (1.5 points)"
   ]
  },
  {
   "cell_type": "markdown",
   "metadata": {
    "colab_type": "text",
    "id": "Ap-RhdEmbN5G"
   },
   "source": [
    "Будем работать с датасетом [Fashion-MNIST](https://github.com/zalandoresearch/fashion-mnist) (*hint: он доступен в torchvision*).\n",
    "\n",
    "Ваша задача состоит в следующем:\n",
    "1. Обучить сеть, которая покажет >= 0.92 test accuracy.\n",
    "2. Пронаблюдать и продемонстрировать процесс переобучения сети с увеличением числа параметров (==нейронов) и/или числа слоев и продемонстрировать это наглядно (например, на графиках).\n",
    "3. Попробовать частично справиться с переобучением с помощью подходящих приемов (Dropout/batchnorm/augmentation etc.)\n",
    "\n",
    "*Примечание*: Пункты 2 и 3 взаимосвязаны, в п.3 Вам прелагается сделать полученную в п.2 сеть менее склонной к переобучению. Пункт 1 является независимым от пунктов 2 и 3."
   ]
  },
  {
   "cell_type": "markdown",
   "metadata": {
    "colab_type": "text",
    "id": "5l0CUMSybN5T"
   },
   "source": [
    "### Часть 1. Обучить сеть, которая покажет >= 0.92 test accuracy."
   ]
  },
  {
   "cell_type": "code",
   "execution_count": 1,
   "metadata": {
    "colab": {},
    "colab_type": "code",
    "id": "1n7cxyqa914D"
   },
   "outputs": [],
   "source": [
    "# Напишем свёрточную нейронную сеть с помощью PyTorch."
   ]
  },
  {
   "cell_type": "code",
   "execution_count": 2,
   "metadata": {},
   "outputs": [
    {
     "name": "stdout",
     "output_type": "stream",
     "text": [
      "Sat Feb 15 17:11:42 2020       \r\n",
      "+-----------------------------------------------------------------------------+\r\n",
      "| NVIDIA-SMI 440.33.01    Driver Version: 440.33.01    CUDA Version: 10.2     |\r\n",
      "|-------------------------------+----------------------+----------------------+\r\n",
      "| GPU  Name        Persistence-M| Bus-Id        Disp.A | Volatile Uncorr. ECC |\r\n",
      "| Fan  Temp  Perf  Pwr:Usage/Cap|         Memory-Usage | GPU-Util  Compute M. |\r\n",
      "|===============================+======================+======================|\r\n",
      "|   0  GeForce MX150       On   | 00000000:01:00.0 Off |                  N/A |\r\n",
      "| N/A   53C    P0    N/A /  N/A |   1013MiB /  2002MiB |     28%      Default |\r\n",
      "+-------------------------------+----------------------+----------------------+\r\n",
      "                                                                               \r\n",
      "+-----------------------------------------------------------------------------+\r\n",
      "| Processes:                                                       GPU Memory |\r\n",
      "|  GPU       PID   Type   Process name                             Usage      |\r\n",
      "|=============================================================================|\r\n",
      "|    0      1133      G   /usr/lib/xorg/Xorg                            28MiB |\r\n",
      "|    0      1264      G   /usr/bin/gnome-shell                          46MiB |\r\n",
      "|    0      1648      G   /usr/lib/xorg/Xorg                           143MiB |\r\n",
      "|    0      1853      G   /usr/bin/gnome-shell                         117MiB |\r\n",
      "|    0      6367      G   ...uest-channel-token=15088898661785468281    98MiB |\r\n",
      "|    0     12527      C   /home/matvey/anaconda3/bin/python            573MiB |\r\n",
      "+-----------------------------------------------------------------------------+\r\n"
     ]
    }
   ],
   "source": [
    "!nvidia-smi"
   ]
  },
  {
   "cell_type": "code",
   "execution_count": 3,
   "metadata": {},
   "outputs": [],
   "source": [
    "import torch\n",
    "import random\n",
    "import numpy as np\n",
    "import matplotlib.pyplot as plt\n",
    "import torchvision.datasets\n",
    "from torchvision import transforms"
   ]
  },
  {
   "cell_type": "code",
   "execution_count": 4,
   "metadata": {
    "colab": {},
    "colab_type": "code",
    "id": "0HWBgWoE-4gx"
   },
   "outputs": [],
   "source": [
    "random.seed(0)\n",
    "np.random.seed(0)\n",
    "torch.manual_seed(0)\n",
    "torch.cuda.manual_seed(0)\n",
    "torch.backends.cudnn.deterministic = True"
   ]
  },
  {
   "cell_type": "code",
   "execution_count": 5,
   "metadata": {
    "colab": {},
    "colab_type": "code",
    "id": "zk3jZTNr-6VH"
   },
   "outputs": [
    {
     "name": "stdout",
     "output_type": "stream",
     "text": [
      "Files already downloaded and verified\n",
      "Files already downloaded and verified\n"
     ]
    }
   ],
   "source": [
    "#также будем использовать аугментацию: рандомные повороты на 7 градусов и отражение относительно вертикали.\n",
    "\n",
    "#преобразование трейна\n",
    "train_tf = transforms.Compose([\n",
    "    transforms.RandomHorizontalFlip(),\n",
    "    transforms.RandomRotation(7),\n",
    "    transforms.ToTensor()\n",
    "])\n",
    "\n",
    "#тест не меняем\n",
    "test_tf = transforms.Compose([\n",
    "    transforms.ToTensor()\n",
    "])\n",
    "\n",
    "train = torchvision.datasets.CIFAR10('./', download=True, train=True, transform=train_tf)\n",
    "test = torchvision.datasets.CIFAR10('./', download=True, train=False, transform=test_tf)"
   ]
  },
  {
   "cell_type": "code",
   "execution_count": 9,
   "metadata": {
    "colab": {},
    "colab_type": "code",
    "id": "GkOXQi9q_TJD"
   },
   "outputs": [],
   "source": [
    "#трейновая выборка\n",
    "trainloader = torch.utils.data.DataLoader(dataset=train, batch_size=64)\n",
    "\n",
    "#тестовая выборка\n",
    "testloader = torch.utils.data.DataLoader(dataset=test, batch_size=256, shuffle=False)"
   ]
  },
  {
   "cell_type": "code",
   "execution_count": 10,
   "metadata": {
    "colab": {},
    "colab_type": "code",
    "id": "_G0Vw5cS_T1r"
   },
   "outputs": [],
   "source": [
    "#напишем нашу свёрточную нейронную сеть. 4 сверточных слоя 3x3 с maxpool и батч-норм.\n",
    "#также три полносвязанных слоя, с дропаутом после каждого\n",
    "#в целом, попытался регулиризовать нейронку с помощью аугментации, батч-норм и дропаута\n",
    "\n",
    "class MyNet(torch.nn.Module):\n",
    "    def __init__(self):\n",
    "        super(MyNet, self).__init__()\n",
    "\n",
    "        self.conv1 = torch.nn.Conv2d(in_channels=3, out_channels=16, kernel_size=3, padding=1)\n",
    "        self.act1 = torch.nn.ReLU()\n",
    "        self.bn1 = torch.nn.BatchNorm2d(num_features=16)\n",
    "        self.pool1 = torch.nn.MaxPool2d(kernel_size=2, stride=2)\n",
    "       \n",
    "        self.conv2 = torch.nn.Conv2d(in_channels=16, out_channels=32, kernel_size=3, padding=1)\n",
    "        self.act2 = torch.nn.ReLU()\n",
    "        self.bn2 = torch.nn.BatchNorm2d(num_features=32)\n",
    "        self.pool2 = torch.nn.MaxPool2d(kernel_size=2, stride=2)\n",
    "\n",
    "        self.conv3 = torch.nn.Conv2d(in_channels=32, out_channels=64, kernel_size=3, padding=1)\n",
    "        self.act3 = torch.nn.ReLU()\n",
    "        self.bn3 = torch.nn.BatchNorm2d(num_features=64)\n",
    "        self.pool3 = torch.nn.MaxPool2d(kernel_size=2, stride=2)\n",
    "\n",
    "        self.conv4 = torch.nn.Conv2d(in_channels=64, out_channels=128, kernel_size=3, padding=1)\n",
    "        self.act4 = torch.nn.LeakyReLU()\n",
    "        self.bn4 = torch.nn.BatchNorm2d(num_features=128)\n",
    "        self.pool4 = torch.nn.MaxPool2d(kernel_size=3, stride=3)\n",
    "\n",
    "        self.fc1 = torch.nn.Linear(128, 80)\n",
    "        self.act5 = torch.nn.LeakyReLU()\n",
    "        self.dropout1 = torch.nn.Dropout(0.5)\n",
    "\n",
    "        self.fc2 = torch.nn.Linear(80, 80)\n",
    "        self.act6 = torch.nn.LeakyReLU()\n",
    "        self.dropout2 = torch.nn.Dropout(0.5)\n",
    "\n",
    "        self.fc3 = torch.nn.Linear(80, 80)\n",
    "        self.act7 = torch.nn.Tanh()\n",
    "        self.dropout3 = torch.nn.Dropout(0.5)     \n",
    "\n",
    "        self.fc4 = torch.nn.Linear(80, 10)\n",
    "    \n",
    "    def forward(self, x):\n",
    "\n",
    "        x = self.conv1(x)\n",
    "        x = self.act1(x)\n",
    "        x = self.bn1(x)\n",
    "        x = self.pool1(x)\n",
    "\n",
    "        x = self.conv2(x)\n",
    "        x = self.act2(x)\n",
    "        x = self.bn2(x)\n",
    "        x = self.pool2(x)\n",
    "\n",
    "        x = self.conv3(x)\n",
    "        x = self.act3(x)\n",
    "        x = self.bn3(x)\n",
    "        x = self.pool3(x)\n",
    "\n",
    "        x = self.conv4(x)\n",
    "        x = self.act4(x)\n",
    "        x = self.bn4(x)\n",
    "        x = self.pool4(x)\n",
    "\n",
    "        x = x.view(x.size(0), x.size(1) * x.size(2) * x.size(3))\n",
    "\n",
    "        x = self.fc1(x)\n",
    "        x = self.act5(x)\n",
    "        x = self.dropout1(x)\n",
    "\n",
    "        x = self.fc2(x)\n",
    "        x = self.act6(x)\n",
    "        x = self.dropout2(x)\n",
    "\n",
    "        x = self.fc3(x)\n",
    "        x = self.act7(x)\n",
    "        x = self.dropout3(x)\n",
    "\n",
    "        x = self.fc4(x)\n",
    "        \n",
    "        return x"
   ]
  },
  {
   "cell_type": "code",
   "execution_count": 11,
   "metadata": {},
   "outputs": [],
   "source": [
    "import torch\n",
    "device = torch.device('cuda:0' if torch.cuda.is_available() else 'cpu')"
   ]
  },
  {
   "cell_type": "code",
   "execution_count": 12,
   "metadata": {},
   "outputs": [
    {
     "name": "stdout",
     "output_type": "stream",
     "text": [
      "cuda:0\n"
     ]
    }
   ],
   "source": [
    "print(device)"
   ]
  },
  {
   "cell_type": "code",
   "execution_count": 13,
   "metadata": {
    "colab": {},
    "colab_type": "code",
    "id": "frRcLZUM_bGO"
   },
   "outputs": [],
   "source": [
    "net = MyNet()\n",
    "\n",
    "#не забудем положить её на куду\n",
    "device = torch.device('cuda:0' if torch.cuda.is_available() else 'cpu')\n",
    "net = net.to(device)"
   ]
  },
  {
   "cell_type": "code",
   "execution_count": 14,
   "metadata": {
    "colab": {},
    "colab_type": "code",
    "id": "gxJooxVL_ejm"
   },
   "outputs": [],
   "source": [
    "#В качестве лоса возмем кросс-энтропию. Оптимизатор - Адам\n",
    "loss = torch.nn.CrossEntropyLoss()\n",
    "optimizer = torch.optim.Adam(net.parameters(), lr=1.0e-3)\n",
    "\n",
    "#добавим уменьшение лернинг рейта, если выходим на плато. Это решение будем принимать по валидационной выборке.\n",
    "lr_scheduler = torch.optim.lr_scheduler.ReduceLROnPlateau(optimizer, verbose=True, patience=7, factor=0.2)"
   ]
  },
  {
   "cell_type": "code",
   "execution_count": 15,
   "metadata": {
    "colab": {},
    "colab_type": "code",
    "id": "G1ji0ztX_wzI"
   },
   "outputs": [],
   "source": [
    "def train(epoch):\n",
    "    running_loss = 0.0\n",
    "    train_acc = 0.0\n",
    "    test_acc = 0.0\n",
    "    len_train = 0.0\n",
    "    len_test = 0.0\n",
    "    \n",
    "    loss_train = 0.0\n",
    "  \n",
    "    for batch_idx, (inputs, targets) in enumerate(trainloader):\n",
    "        inputs, targets = inputs.to(device), targets.to(device)\n",
    "        optimizer.zero_grad()\n",
    "        outputs = net(inputs)\n",
    "        loss_val = loss(outputs, targets)\n",
    "        loss_val.backward()\n",
    "        optimizer.step()\n",
    "        accuracy_add = (outputs.argmax(dim=1) == targets).float().sum().data.cpu()\n",
    "        train_acc += accuracy_add #не забываем считать метрику на тесте\n",
    "        len_train += len(targets)\n",
    "        loss_train += len(targets) * loss_val.item()\n",
    "        running_loss += loss_val.item()\n",
    "        \n",
    "    for _, (inputs, targets) in enumerate(testloader):\n",
    "        inputs, targets = inputs.to(device), targets.to(device)\n",
    "        outputs = net(inputs)\n",
    "        accuracy_add = (outputs.argmax(dim=1) == targets).float().sum().data.cpu()\n",
    "        test_acc += accuracy_add #не забываем считать метрику на тесте\n",
    "        len_test += len(targets)\n",
    "        \n",
    "    lr_scheduler.step(running_loss)\n",
    "\n",
    "    return train_acc / len_train, test_acc / len_test"
   ]
  },
  {
   "cell_type": "code",
   "execution_count": 16,
   "metadata": {
    "colab": {
     "base_uri": "https://localhost:8080/",
     "height": 1000
    },
    "colab_type": "code",
    "id": "KesQt90Q_96O",
    "outputId": "3e52322d-bf79-446a-c890-ef718e6051e0"
   },
   "outputs": [
    {
     "name": "stdout",
     "output_type": "stream",
     "text": [
      "Epoch: 0    acc_train: 0.3513    test_acc: 0.4614\n",
      "Epoch: 1    acc_train: 0.5091    test_acc: 0.5514\n",
      "Epoch: 2    acc_train: 0.5805    test_acc: 0.5793\n",
      "Epoch: 3    acc_train: 0.6183    test_acc: 0.6261\n",
      "Epoch: 4    acc_train: 0.639    test_acc: 0.6542\n",
      "Epoch: 5    acc_train: 0.6623    test_acc: 0.6709\n",
      "Epoch: 6    acc_train: 0.6792    test_acc: 0.6746\n",
      "Epoch: 7    acc_train: 0.6891    test_acc: 0.6825\n",
      "Epoch: 8    acc_train: 0.7015    test_acc: 0.6971\n",
      "Epoch: 9    acc_train: 0.7115    test_acc: 0.7061\n",
      "Epoch: 10    acc_train: 0.7222    test_acc: 0.712\n",
      "Epoch: 11    acc_train: 0.7286    test_acc: 0.7162\n",
      "Epoch: 12    acc_train: 0.7316    test_acc: 0.7234\n",
      "Epoch: 13    acc_train: 0.7391    test_acc: 0.7259\n",
      "Epoch: 14    acc_train: 0.7446    test_acc: 0.7266\n",
      "Epoch: 15    acc_train: 0.7507    test_acc: 0.7324\n",
      "Epoch: 16    acc_train: 0.7541    test_acc: 0.7361\n",
      "Epoch: 17    acc_train: 0.7603    test_acc: 0.7367\n",
      "Epoch: 18    acc_train: 0.7641    test_acc: 0.733\n",
      "Epoch: 19    acc_train: 0.7646    test_acc: 0.7366\n",
      "Epoch: 20    acc_train: 0.7717    test_acc: 0.7454\n",
      "Epoch: 21    acc_train: 0.7723    test_acc: 0.7363\n",
      "Epoch: 22    acc_train: 0.779    test_acc: 0.7496\n",
      "Epoch: 23    acc_train: 0.7777    test_acc: 0.7449\n",
      "Epoch: 24    acc_train: 0.7816    test_acc: 0.7477\n",
      "Epoch: 25    acc_train: 0.7848    test_acc: 0.76\n",
      "Epoch: 26    acc_train: 0.7885    test_acc: 0.7583\n",
      "Epoch: 27    acc_train: 0.7905    test_acc: 0.7546\n",
      "Epoch: 28    acc_train: 0.7911    test_acc: 0.7555\n",
      "Epoch: 29    acc_train: 0.7957    test_acc: 0.7575\n",
      "Epoch: 30    acc_train: 0.7954    test_acc: 0.7622\n",
      "Epoch: 31    acc_train: 0.7985    test_acc: 0.7524\n",
      "Epoch: 32    acc_train: 0.802    test_acc: 0.756\n",
      "Epoch: 33    acc_train: 0.8025    test_acc: 0.7588\n",
      "Epoch: 34    acc_train: 0.8034    test_acc: 0.7623\n",
      "Epoch: 35    acc_train: 0.8048    test_acc: 0.7658\n",
      "Epoch: 36    acc_train: 0.8093    test_acc: 0.7669\n",
      "Epoch: 37    acc_train: 0.8097    test_acc: 0.7658\n",
      "Epoch: 38    acc_train: 0.8097    test_acc: 0.7696\n",
      "Epoch: 39    acc_train: 0.8129    test_acc: 0.7721\n",
      "Epoch: 40    acc_train: 0.813    test_acc: 0.7706\n",
      "Epoch: 41    acc_train: 0.8123    test_acc: 0.7644\n",
      "Epoch: 42    acc_train: 0.815    test_acc: 0.7683\n",
      "Epoch: 43    acc_train: 0.8198    test_acc: 0.7726\n",
      "Epoch: 44    acc_train: 0.8202    test_acc: 0.77\n",
      "Epoch: 45    acc_train: 0.821    test_acc: 0.7725\n",
      "Epoch: 46    acc_train: 0.8198    test_acc: 0.7699\n",
      "Epoch: 47    acc_train: 0.8218    test_acc: 0.7731\n",
      "Epoch: 48    acc_train: 0.8221    test_acc: 0.7696\n",
      "Epoch: 49    acc_train: 0.8254    test_acc: 0.7705\n",
      "Epoch: 50    acc_train: 0.8276    test_acc: 0.7742\n",
      "Epoch: 51    acc_train: 0.8284    test_acc: 0.7742\n",
      "Epoch: 52    acc_train: 0.8255    test_acc: 0.7791\n",
      "Epoch: 53    acc_train: 0.8316    test_acc: 0.7742\n",
      "Epoch: 54    acc_train: 0.83    test_acc: 0.7689\n",
      "Epoch: 55    acc_train: 0.8293    test_acc: 0.7746\n",
      "Epoch: 56    acc_train: 0.8314    test_acc: 0.7766\n",
      "Epoch: 57    acc_train: 0.8343    test_acc: 0.7757\n",
      "Epoch: 58    acc_train: 0.8343    test_acc: 0.7708\n",
      "Epoch: 59    acc_train: 0.8364    test_acc: 0.7781\n",
      "Epoch: 60    acc_train: 0.8365    test_acc: 0.7765\n",
      "Epoch: 61    acc_train: 0.8385    test_acc: 0.7771\n",
      "Epoch: 62    acc_train: 0.8387    test_acc: 0.7815\n",
      "Epoch: 63    acc_train: 0.8377    test_acc: 0.7795\n",
      "Epoch: 64    acc_train: 0.8414    test_acc: 0.7774\n",
      "Epoch: 65    acc_train: 0.8423    test_acc: 0.7787\n",
      "Epoch: 66    acc_train: 0.8411    test_acc: 0.7784\n",
      "Epoch: 67    acc_train: 0.8414    test_acc: 0.7781\n",
      "Epoch: 68    acc_train: 0.8444    test_acc: 0.7814\n",
      "Epoch: 69    acc_train: 0.8452    test_acc: 0.7833\n",
      "Epoch: 70    acc_train: 0.8464    test_acc: 0.7765\n",
      "Epoch: 71    acc_train: 0.8458    test_acc: 0.7794\n",
      "Epoch: 72    acc_train: 0.8468    test_acc: 0.7781\n",
      "Epoch: 73    acc_train: 0.8482    test_acc: 0.7799\n",
      "Epoch: 74    acc_train: 0.8487    test_acc: 0.7767\n",
      "Epoch: 75    acc_train: 0.8511    test_acc: 0.784\n",
      "Epoch: 76    acc_train: 0.853    test_acc: 0.7778\n",
      "Epoch: 77    acc_train: 0.8497    test_acc: 0.7888\n",
      "Epoch: 78    acc_train: 0.8528    test_acc: 0.7873\n",
      "Epoch: 79    acc_train: 0.8522    test_acc: 0.7823\n"
     ]
    }
   ],
   "source": [
    "#обучим нашу нейронную сеть, думаю, в районе 50-70 эпох будет достаточно. \n",
    "#Будем выводить на каждой эпохе accuracy на трейновой, валидационной и тестовой выборках\n",
    "\n",
    "accuracy_history_test = []\n",
    "accuracy_history_train = []\n",
    "\n",
    "for epoch in range(0, 80):\n",
    "    train_acc, test_acc = train(epoch)\n",
    "    accuracy_history_test.append(test_acc)\n",
    "    accuracy_history_train.append(train_acc)    \n",
    "    print('Epoch:', epoch, '   acc_train:', np.round(train_acc.numpy(), 4), '   test_acc:', np.round(test_acc.numpy(), 4))"
   ]
  },
  {
   "cell_type": "code",
   "execution_count": 17,
   "metadata": {
    "colab": {
     "base_uri": "https://localhost:8080/",
     "height": 350
    },
    "colab_type": "code",
    "id": "FwcrcI2091z2",
    "outputId": "9bb3c2d9-0811-4765-a2ed-b49c9af622c6"
   },
   "outputs": [
    {
     "data": {
      "text/plain": [
       "Text(0, 0.5, 'Accuracy')"
      ]
     },
     "execution_count": 17,
     "metadata": {},
     "output_type": "execute_result"
    },
    {
     "data": {
      "image/png": "[encoded data removed]",
      "text/plain": [
       "<Figure size 1008x360 with 1 Axes>"
      ]
     },
     "metadata": {
      "needs_background": "light"
     },
     "output_type": "display_data"
    }
   ],
   "source": [
    "import matplotlib.pyplot as plt\n",
    "\n",
    "fig, ax = plt.subplots(figsize=[14, 5])\n",
    "plt.plot(accuracy_history_test, label='accucacy on test set')\n",
    "plt.plot(accuracy_history_train, label='accucacy on train set')\n",
    "plt.legend(loc='best')\n",
    "plt.title('Accuracy on train and test set on each epoch')\n",
    "plt.grid('True')\n",
    "plt.xlabel('Epoch')\n",
    "plt.ylabel('Accuracy')"
   ]
  },
  {
   "cell_type": "code",
   "execution_count": 18,
   "metadata": {},
   "outputs": [],
   "source": [
    "net = net.eval()"
   ]
  },
  {
   "cell_type": "code",
   "execution_count": 19,
   "metadata": {},
   "outputs": [
    {
     "name": "stderr",
     "output_type": "stream",
     "text": [
      "/home/matvey/anaconda3/lib/python3.7/site-packages/torch/serialization.py:256: UserWarning: Couldn't retrieve source code for container of type MyNet. It won't be checked for correctness upon loading.\n",
      "  \"type \" + obj.__name__ + \". It won't be checked \"\n"
     ]
    }
   ],
   "source": [
    "torch.save(net, 'CIFAR10_net.pth')"
   ]
  },
  {
   "cell_type": "code",
   "execution_count": 20,
   "metadata": {},
   "outputs": [],
   "source": [
    "quit()"
   ]
  },
  {
   "cell_type": "code",
   "execution_count": null,
   "metadata": {},
   "outputs": [],
   "source": []
  }
 ],
 "metadata": {
  "accelerator": "GPU",
  "anaconda-cloud": {},
  "colab": {
   "collapsed_sections": [],
   "name": "Lab2_DL_part1.ipynb",
   "provenance": []
  },
  "kernelspec": {
   "display_name": "Python 3",
   "language": "python",
   "name": "python3"
  },
  "language_info": {
   "codemirror_mode": {
    "name": "ipython",
    "version": 3
   },
   "file_extension": ".py",
   "mimetype": "text/x-python",
   "name": "python",
   "nbconvert_exporter": "python",
   "pygments_lexer": "ipython3",
   "version": "3.7.4"
  }
 },
 "nbformat": 4,
 "nbformat_minor": 1
}
