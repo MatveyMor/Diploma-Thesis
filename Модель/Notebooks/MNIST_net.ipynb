{
 "cells": [
  {
   "cell_type": "markdown",
   "metadata": {
    "colab_type": "text",
    "id": "Vshq99iIbN4k"
   },
   "source": [
    "## Lab 3"
   ]
  },
  {
   "cell_type": "markdown",
   "metadata": {
    "colab_type": "text",
    "id": "DDaRsOpubN41"
   },
   "source": [
    "### Part 1. Overfit it (1.5 points)"
   ]
  },
  {
   "cell_type": "markdown",
   "metadata": {
    "colab_type": "text",
    "id": "Ap-RhdEmbN5G"
   },
   "source": [
    "Будем работать с датасетом [Fashion-MNIST](https://github.com/zalandoresearch/fashion-mnist) (*hint: он доступен в torchvision*).\n",
    "\n",
    "Ваша задача состоит в следующем:\n",
    "1. Обучить сеть, которая покажет >= 0.92 test accuracy.\n",
    "2. Пронаблюдать и продемонстрировать процесс переобучения сети с увеличением числа параметров (==нейронов) и/или числа слоев и продемонстрировать это наглядно (например, на графиках).\n",
    "3. Попробовать частично справиться с переобучением с помощью подходящих приемов (Dropout/batchnorm/augmentation etc.)\n",
    "\n",
    "*Примечание*: Пункты 2 и 3 взаимосвязаны, в п.3 Вам прелагается сделать полученную в п.2 сеть менее склонной к переобучению. Пункт 1 является независимым от пунктов 2 и 3."
   ]
  },
  {
   "cell_type": "markdown",
   "metadata": {
    "colab_type": "text",
    "id": "5l0CUMSybN5T"
   },
   "source": [
    "### Часть 1. Обучить сеть, которая покажет >= 0.92 test accuracy."
   ]
  },
  {
   "cell_type": "code",
   "execution_count": 1,
   "metadata": {
    "colab": {},
    "colab_type": "code",
    "id": "1n7cxyqa914D"
   },
   "outputs": [],
   "source": [
    "# Напишем свёрточную нейронную сеть с помощью PyTorch."
   ]
  },
  {
   "cell_type": "code",
   "execution_count": 2,
   "metadata": {},
   "outputs": [
    {
     "name": "stdout",
     "output_type": "stream",
     "text": [
      "Sat Feb 15 14:38:20 2020       \r\n",
      "+-----------------------------------------------------------------------------+\r\n",
      "| NVIDIA-SMI 440.33.01    Driver Version: 440.33.01    CUDA Version: 10.2     |\r\n",
      "|-------------------------------+----------------------+----------------------+\r\n",
      "| GPU  Name        Persistence-M| Bus-Id        Disp.A | Volatile Uncorr. ECC |\r\n",
      "| Fan  Temp  Perf  Pwr:Usage/Cap|         Memory-Usage | GPU-Util  Compute M. |\r\n",
      "|===============================+======================+======================|\r\n",
      "|   0  GeForce MX150       On   | 00000000:01:00.0 Off |                  N/A |\r\n",
      "| N/A   53C    P0    N/A /  N/A |    989MiB /  2002MiB |     17%      Default |\r\n",
      "+-------------------------------+----------------------+----------------------+\r\n",
      "                                                                               \r\n",
      "+-----------------------------------------------------------------------------+\r\n",
      "| Processes:                                                       GPU Memory |\r\n",
      "|  GPU       PID   Type   Process name                             Usage      |\r\n",
      "|=============================================================================|\r\n",
      "|    0      1133      G   /usr/lib/xorg/Xorg                            28MiB |\r\n",
      "|    0      1264      G   /usr/bin/gnome-shell                          46MiB |\r\n",
      "|    0      1648      G   /usr/lib/xorg/Xorg                           143MiB |\r\n",
      "|    0      1853      G   /usr/bin/gnome-shell                          99MiB |\r\n",
      "|    0      5524      C   /home/matvey/anaconda3/bin/python            615MiB |\r\n",
      "|    0      6367      G   ...uest-channel-token=15088898661785468281    51MiB |\r\n",
      "+-----------------------------------------------------------------------------+\r\n"
     ]
    }
   ],
   "source": [
    "!nvidia-smi"
   ]
  },
  {
   "cell_type": "code",
   "execution_count": 3,
   "metadata": {},
   "outputs": [],
   "source": [
    "import torch\n",
    "import random\n",
    "import numpy as np\n",
    "import matplotlib.pyplot as plt\n",
    "import torchvision.datasets\n",
    "from torchvision import transforms"
   ]
  },
  {
   "cell_type": "code",
   "execution_count": 4,
   "metadata": {
    "colab": {},
    "colab_type": "code",
    "id": "0HWBgWoE-4gx"
   },
   "outputs": [],
   "source": [
    "random.seed(0)\n",
    "np.random.seed(0)\n",
    "torch.manual_seed(0)\n",
    "torch.cuda.manual_seed(0)\n",
    "torch.backends.cudnn.deterministic = True"
   ]
  },
  {
   "cell_type": "code",
   "execution_count": 5,
   "metadata": {
    "colab": {},
    "colab_type": "code",
    "id": "zk3jZTNr-6VH"
   },
   "outputs": [
    {
     "name": "stderr",
     "output_type": "stream",
     "text": [
      "\r",
      "0it [00:00, ?it/s]"
     ]
    },
    {
     "name": "stdout",
     "output_type": "stream",
     "text": [
      "Downloading http://yann.lecun.com/exdb/mnist/train-images-idx3-ubyte.gz to ./MNIST/raw/train-images-idx3-ubyte.gz\n"
     ]
    },
    {
     "name": "stderr",
     "output_type": "stream",
     "text": [
      "100%|█████████▉| 9879552/9912422 [00:17<00:00, 507818.24it/s]"
     ]
    },
    {
     "name": "stdout",
     "output_type": "stream",
     "text": [
      "Extracting ./MNIST/raw/train-images-idx3-ubyte.gz to ./MNIST/raw\n"
     ]
    },
    {
     "name": "stderr",
     "output_type": "stream",
     "text": [
      "\n",
      "0it [00:00, ?it/s]\u001b[A"
     ]
    },
    {
     "name": "stdout",
     "output_type": "stream",
     "text": [
      "Downloading http://yann.lecun.com/exdb/mnist/train-labels-idx1-ubyte.gz to ./MNIST/raw/train-labels-idx1-ubyte.gz\n"
     ]
    },
    {
     "name": "stderr",
     "output_type": "stream",
     "text": [
      "\n",
      "  0%|          | 0/28881 [00:00<?, ?it/s]\u001b[A\n",
      "32768it [00:00, 76065.92it/s]                            \u001b[A\n",
      "\n",
      "0it [00:00, ?it/s]\u001b[A"
     ]
    },
    {
     "name": "stdout",
     "output_type": "stream",
     "text": [
      "Extracting ./MNIST/raw/train-labels-idx1-ubyte.gz to ./MNIST/raw\n",
      "Downloading http://yann.lecun.com/exdb/mnist/t10k-images-idx3-ubyte.gz to ./MNIST/raw/t10k-images-idx3-ubyte.gz\n"
     ]
    },
    {
     "name": "stderr",
     "output_type": "stream",
     "text": [
      "\n",
      "  0%|          | 0/1648877 [00:00<?, ?it/s]\u001b[A\n",
      "  1%|          | 16384/1648877 [00:00<00:16, 99188.35it/s]\u001b[A\n",
      "  2%|▏         | 40960/1648877 [00:00<00:13, 115758.85it/s]\u001b[A\n",
      "  5%|▍         | 81920/1648877 [00:00<00:11, 142208.10it/s]\u001b[A\n",
      "  8%|▊         | 139264/1648877 [00:00<00:08, 175438.48it/s]\u001b[A\n",
      " 12%|█▏        | 196608/1648877 [00:01<00:07, 183895.06it/s]\u001b[A\n",
      " 18%|█▊        | 294912/1648877 [00:01<00:05, 236962.91it/s]\u001b[A\n",
      " 20%|██        | 335872/1648877 [00:01<00:05, 258331.92it/s]\u001b[A\n",
      " 23%|██▎       | 376832/1648877 [00:01<00:04, 278278.26it/s]\u001b[A\n",
      " 25%|██▌       | 417792/1648877 [00:01<00:04, 282253.07it/s]\u001b[A\n",
      " 28%|██▊       | 458752/1648877 [00:01<00:04, 288670.01it/s]\u001b[A\n",
      " 30%|███       | 499712/1648877 [00:01<00:03, 309842.64it/s]\u001b[A\n",
      " 34%|███▍      | 557056/1648877 [00:02<00:03, 320999.15it/s]\u001b[A\n",
      " 37%|███▋      | 606208/1648877 [00:02<00:03, 321376.82it/s]\u001b[A\n",
      " 40%|████      | 663552/1648877 [00:02<00:02, 343218.39it/s]\u001b[A\n",
      " 44%|████▎     | 720896/1648877 [00:02<00:02, 367454.82it/s]\u001b[A\n",
      " 47%|████▋     | 778240/1648877 [00:02<00:02, 379640.16it/s]\u001b[A\n",
      " 51%|█████     | 843776/1648877 [00:02<00:02, 400201.38it/s]\u001b[A\n",
      " 55%|█████▍    | 901120/1648877 [00:02<00:01, 406842.02it/s]\u001b[A\n",
      " 58%|█████▊    | 958464/1648877 [00:03<00:01, 428071.30it/s]\u001b[A\n",
      " 62%|██████▏   | 1015808/1648877 [00:03<00:01, 394482.91it/s]\u001b[A\n",
      " 65%|██████▌   | 1073152/1648877 [00:03<00:01, 430073.84it/s]\u001b[A\n",
      " 69%|██████▉   | 1138688/1648877 [00:03<00:01, 380141.46it/s]\u001b[A\n",
      " 75%|███████▌  | 1236992/1648877 [00:03<00:01, 400516.13it/s]\u001b[A\n",
      " 78%|███████▊  | 1286144/1648877 [00:03<00:01, 340546.41it/s]\u001b[A\n",
      " 80%|████████  | 1327104/1648877 [00:04<00:01, 320189.80it/s]\u001b[A\n",
      " 83%|████████▎ | 1376256/1648877 [00:04<00:00, 328061.46it/s]\u001b[A\n",
      " 87%|████████▋ | 1433600/1648877 [00:04<00:00, 340567.98it/s]\u001b[A\n",
      " 90%|█████████ | 1490944/1648877 [00:04<00:00, 325250.90it/s]\u001b[A\n",
      " 94%|█████████▍| 1548288/1648877 [00:04<00:00, 341261.88it/s]\u001b[A\n",
      " 97%|█████████▋| 1605632/1648877 [00:04<00:00, 315187.41it/s]\u001b[A\n",
      "\n",
      "0it [00:00, ?it/s]\u001b[A\u001b[A"
     ]
    },
    {
     "name": "stdout",
     "output_type": "stream",
     "text": [
      "Extracting ./MNIST/raw/t10k-images-idx3-ubyte.gz to ./MNIST/raw\n",
      "Downloading http://yann.lecun.com/exdb/mnist/t10k-labels-idx1-ubyte.gz to ./MNIST/raw/t10k-labels-idx1-ubyte.gz\n"
     ]
    },
    {
     "name": "stderr",
     "output_type": "stream",
     "text": [
      "\n",
      "\n",
      "8192it [00:00, 27151.89it/s]            \u001b[A\u001b[A"
     ]
    },
    {
     "name": "stdout",
     "output_type": "stream",
     "text": [
      "Extracting ./MNIST/raw/t10k-labels-idx1-ubyte.gz to ./MNIST/raw\n",
      "Processing...\n",
      "Done!\n"
     ]
    },
    {
     "name": "stderr",
     "output_type": "stream",
     "text": [
      "\n"
     ]
    }
   ],
   "source": [
    "#также будем использовать аугментацию: рандомные повороты на 7 градусов и отражение относительно вертикали.\n",
    "\n",
    "#преобразование трейна\n",
    "train_tf = transforms.Compose([\n",
    "    transforms.RandomHorizontalFlip(),\n",
    "    transforms.RandomRotation(7),\n",
    "    transforms.ToTensor()\n",
    "])\n",
    "\n",
    "#тест не меняем\n",
    "test_tf = transforms.Compose([\n",
    "    transforms.ToTensor()\n",
    "])\n",
    "\n",
    "train = torchvision.datasets.MNIST('./', download=True, train=True, transform=train_tf)\n",
    "test = torchvision.datasets.MNIST('./', download=True, train=False, transform=test_tf)"
   ]
  },
  {
   "cell_type": "code",
   "execution_count": 6,
   "metadata": {
    "colab": {
     "base_uri": "https://localhost:8080/",
     "height": 52
    },
    "colab_type": "code",
    "id": "b_3QRxFz_DfZ",
    "outputId": "2d43e520-e3bb-441d-f844-c92c3701a440"
   },
   "outputs": [
    {
     "name": "stderr",
     "output_type": "stream",
     "text": [
      "/home/matvey/anaconda3/lib/python3.7/site-packages/torchvision/datasets/mnist.py:58: UserWarning: test_data has been renamed data\n",
      "  warnings.warn(\"test_data has been renamed data\")\n"
     ]
    }
   ],
   "source": [
    "#также отдельно создадим валидационную выборку - 15% от трейновой\n",
    "\n",
    "from torch.utils.data.sampler import SubsetRandomSampler\n",
    "\n",
    "X_train = train.test_data\n",
    "dataset_len = len(X_train)\n",
    "validation_split = 0.15\n",
    "indices = list(range(dataset_len))\n",
    "val_len = int(np.floor(validation_split * dataset_len))\n",
    "validation_idx = np.random.choice(indices, size=val_len, replace=False)\n",
    "train_idx = list(set(indices) - set(validation_idx))\n",
    "train_sampler = SubsetRandomSampler(train_idx)\n",
    "validation_sampler = SubsetRandomSampler(validation_idx)"
   ]
  },
  {
   "cell_type": "code",
   "execution_count": 7,
   "metadata": {
    "colab": {},
    "colab_type": "code",
    "id": "GkOXQi9q_TJD"
   },
   "outputs": [],
   "source": [
    "#трейновая выборка\n",
    "trainloader = torch.utils.data.DataLoader(dataset=train, batch_size=64)\n",
    "\n",
    "#тестовая выборка\n",
    "testloader = torch.utils.data.DataLoader(dataset=test, batch_size=256, shuffle=False)"
   ]
  },
  {
   "cell_type": "code",
   "execution_count": 8,
   "metadata": {
    "colab": {},
    "colab_type": "code",
    "id": "_G0Vw5cS_T1r"
   },
   "outputs": [],
   "source": [
    "#напишем нашу свёрточную нейронную сеть. 4 сверточных слоя 3x3 с maxpool и батч-норм.\n",
    "#также три полносвязанных слоя, с дропаутом после каждого\n",
    "#в целом, попытался регулиризовать нейронку с помощью аугментации, батч-норм и дропаута\n",
    "\n",
    "class MyNet(torch.nn.Module):\n",
    "    def __init__(self):\n",
    "        super(MyNet, self).__init__()\n",
    "\n",
    "        self.conv1 = torch.nn.Conv2d(in_channels=1, out_channels=16, kernel_size=3, padding=1)\n",
    "        self.act1 = torch.nn.ReLU()\n",
    "        self.bn1 = torch.nn.BatchNorm2d(num_features=16)\n",
    "        self.pool1 = torch.nn.MaxPool2d(kernel_size=2, stride=2)\n",
    "       \n",
    "        self.conv2 = torch.nn.Conv2d(in_channels=16, out_channels=32, kernel_size=3, padding=1)\n",
    "        self.act2 = torch.nn.ReLU()\n",
    "        self.bn2 = torch.nn.BatchNorm2d(num_features=32)\n",
    "        self.pool2 = torch.nn.MaxPool2d(kernel_size=2, stride=2)\n",
    "\n",
    "        self.conv3 = torch.nn.Conv2d(in_channels=32, out_channels=64, kernel_size=3, padding=1)\n",
    "        self.act3 = torch.nn.ReLU()\n",
    "        self.bn3 = torch.nn.BatchNorm2d(num_features=64)\n",
    "        self.pool3 = torch.nn.MaxPool2d(kernel_size=2, stride=2)\n",
    "\n",
    "        self.conv4 = torch.nn.Conv2d(in_channels=64, out_channels=128, kernel_size=3, padding=1)\n",
    "        self.act4 = torch.nn.LeakyReLU()\n",
    "        self.bn4 = torch.nn.BatchNorm2d(num_features=128)\n",
    "        self.pool4 = torch.nn.MaxPool2d(kernel_size=3, stride=3)\n",
    "\n",
    "        self.fc1 = torch.nn.Linear(128, 80)\n",
    "        self.act5 = torch.nn.LeakyReLU()\n",
    "        self.dropout1 = torch.nn.Dropout(0.5)\n",
    "\n",
    "        self.fc2 = torch.nn.Linear(80, 80)\n",
    "        self.act6 = torch.nn.LeakyReLU()\n",
    "        self.dropout2 = torch.nn.Dropout(0.5)\n",
    "\n",
    "        self.fc3 = torch.nn.Linear(80, 80)\n",
    "        self.act7 = torch.nn.Tanh()\n",
    "        self.dropout3 = torch.nn.Dropout(0.5)     \n",
    "\n",
    "        self.fc4 = torch.nn.Linear(80, 10)\n",
    "    \n",
    "    def forward(self, x):\n",
    "\n",
    "        x = self.conv1(x)\n",
    "        x = self.act1(x)\n",
    "        x = self.bn1(x)\n",
    "        x = self.pool1(x)\n",
    "\n",
    "        x = self.conv2(x)\n",
    "        x = self.act2(x)\n",
    "        x = self.bn2(x)\n",
    "        x = self.pool2(x)\n",
    "\n",
    "        x = self.conv3(x)\n",
    "        x = self.act3(x)\n",
    "        x = self.bn3(x)\n",
    "        x = self.pool3(x)\n",
    "\n",
    "        x = self.conv4(x)\n",
    "        x = self.act4(x)\n",
    "        x = self.bn4(x)\n",
    "        x = self.pool4(x)\n",
    "\n",
    "        x = x.view(x.size(0), x.size(1) * x.size(2) * x.size(3))\n",
    "\n",
    "        x = self.fc1(x)\n",
    "        x = self.act5(x)\n",
    "        x = self.dropout1(x)\n",
    "\n",
    "        x = self.fc2(x)\n",
    "        x = self.act6(x)\n",
    "        x = self.dropout2(x)\n",
    "\n",
    "        x = self.fc3(x)\n",
    "        x = self.act7(x)\n",
    "        x = self.dropout3(x)\n",
    "\n",
    "        x = self.fc4(x)\n",
    "        \n",
    "        return x"
   ]
  },
  {
   "cell_type": "code",
   "execution_count": 9,
   "metadata": {},
   "outputs": [],
   "source": [
    "import torch\n",
    "device = torch.device('cuda:0' if torch.cuda.is_available() else 'cpu')"
   ]
  },
  {
   "cell_type": "code",
   "execution_count": 10,
   "metadata": {},
   "outputs": [
    {
     "name": "stdout",
     "output_type": "stream",
     "text": [
      "cuda:0\n"
     ]
    }
   ],
   "source": [
    "print(device)"
   ]
  },
  {
   "cell_type": "code",
   "execution_count": 11,
   "metadata": {
    "colab": {},
    "colab_type": "code",
    "id": "frRcLZUM_bGO"
   },
   "outputs": [],
   "source": [
    "net = MyNet()\n",
    "\n",
    "#не забудем положить её на куду\n",
    "device = torch.device('cuda:0' if torch.cuda.is_available() else 'cpu')\n",
    "net = net.to(device)"
   ]
  },
  {
   "cell_type": "code",
   "execution_count": 12,
   "metadata": {
    "colab": {},
    "colab_type": "code",
    "id": "gxJooxVL_ejm"
   },
   "outputs": [],
   "source": [
    "#В качестве лоса возмем кросс-энтропию. Оптимизатор - Адам\n",
    "loss = torch.nn.CrossEntropyLoss()\n",
    "optimizer = torch.optim.Adam(net.parameters(), lr=1.0e-3)\n",
    "\n",
    "#добавим уменьшение лернинг рейта, если выходим на плато. Это решение будем принимать по валидационной выборке.\n",
    "lr_scheduler = torch.optim.lr_scheduler.ReduceLROnPlateau(optimizer, verbose=True, patience=7, factor=0.2)"
   ]
  },
  {
   "cell_type": "code",
   "execution_count": 13,
   "metadata": {
    "colab": {},
    "colab_type": "code",
    "id": "G1ji0ztX_wzI"
   },
   "outputs": [],
   "source": [
    "def train(epoch):\n",
    "    running_loss = 0.0\n",
    "    train_acc = 0.0\n",
    "    test_acc = 0.0\n",
    "    len_train = 0.0\n",
    "    len_test = 0.0\n",
    "    \n",
    "    loss_train = 0.0\n",
    "  \n",
    "    for batch_idx, (inputs, targets) in enumerate(trainloader):\n",
    "        inputs, targets = inputs.to(device), targets.to(device)\n",
    "        optimizer.zero_grad()\n",
    "        outputs = net(inputs)\n",
    "        loss_val = loss(outputs, targets)\n",
    "        loss_val.backward()\n",
    "        optimizer.step()\n",
    "        accuracy_add = (outputs.argmax(dim=1) == targets).float().sum().data.cpu()\n",
    "        train_acc += accuracy_add #не забываем считать метрику на тесте\n",
    "        len_train += len(targets)\n",
    "        loss_train += len(targets) * loss_val.item()\n",
    "        running_loss += loss_val.item()\n",
    "        \n",
    "    for _, (inputs, targets) in enumerate(testloader):\n",
    "        inputs, targets = inputs.to(device), targets.to(device)\n",
    "        outputs = net(inputs)\n",
    "        accuracy_add = (outputs.argmax(dim=1) == targets).float().sum().data.cpu()\n",
    "        test_acc += accuracy_add #не забываем считать метрику на тесте\n",
    "        len_test += len(targets)\n",
    "        \n",
    "    lr_scheduler.step(running_loss)\n",
    "\n",
    "    return train_acc / len_train, test_acc / len_test"
   ]
  },
  {
   "cell_type": "code",
   "execution_count": null,
   "metadata": {
    "colab": {
     "base_uri": "https://localhost:8080/",
     "height": 1000
    },
    "colab_type": "code",
    "id": "KesQt90Q_96O",
    "outputId": "3e52322d-bf79-446a-c890-ef718e6051e0"
   },
   "outputs": [
    {
     "name": "stderr",
     "output_type": "stream",
     "text": [
      "9920512it [00:30, 507818.24it/s]                             \n",
      "1654784it [00:21, 315187.41it/s]                             \u001b[A"
     ]
    },
    {
     "name": "stdout",
     "output_type": "stream",
     "text": [
      "Epoch: 0    acc_train: 0.8188    test_acc: 0.9407\n",
      "Epoch: 1    acc_train: 0.9502    test_acc: 0.9626\n",
      "Epoch: 2    acc_train: 0.9634    test_acc: 0.9663\n",
      "Epoch: 3    acc_train: 0.9673    test_acc: 0.9729\n",
      "Epoch: 4    acc_train: 0.9708    test_acc: 0.9774\n",
      "Epoch: 5    acc_train: 0.9746    test_acc: 0.9772\n",
      "Epoch: 6    acc_train: 0.9756    test_acc: 0.976\n",
      "Epoch: 7    acc_train: 0.9778    test_acc: 0.9791\n",
      "Epoch: 8    acc_train: 0.9786    test_acc: 0.9822\n",
      "Epoch: 9    acc_train: 0.9783    test_acc: 0.9769\n",
      "Epoch: 10    acc_train: 0.9809    test_acc: 0.9806\n",
      "Epoch: 11    acc_train: 0.9814    test_acc: 0.9805\n",
      "Epoch: 12    acc_train: 0.982    test_acc: 0.9815\n",
      "Epoch: 13    acc_train: 0.9822    test_acc: 0.9815\n",
      "Epoch: 14    acc_train: 0.9831    test_acc: 0.9807\n",
      "Epoch: 15    acc_train: 0.9834    test_acc: 0.983\n",
      "Epoch: 16    acc_train: 0.9842    test_acc: 0.9809\n",
      "Epoch: 17    acc_train: 0.9836    test_acc: 0.9807\n",
      "Epoch: 18    acc_train: 0.9845    test_acc: 0.9822\n",
      "Epoch: 19    acc_train: 0.9857    test_acc: 0.9831\n",
      "Epoch: 20    acc_train: 0.9855    test_acc: 0.985\n"
     ]
    }
   ],
   "source": [
    "#обучим нашу нейронную сеть, думаю, в районе 50-70 эпох будет достаточно. \n",
    "#Будем выводить на каждой эпохе accuracy на трейновой, валидационной и тестовой выборках\n",
    "\n",
    "accuracy_history_test = []\n",
    "accuracy_history_train = []\n",
    "\n",
    "for epoch in range(0, 25):\n",
    "    train_acc, test_acc = train(epoch)\n",
    "    accuracy_history_test.append(test_acc)\n",
    "    accuracy_history_train.append(train_acc)    \n",
    "    print('Epoch:', epoch, '   acc_train:', np.round(train_acc.numpy(), 4), '   test_acc:', np.round(test_acc.numpy(), 4))"
   ]
  },
  {
   "cell_type": "code",
   "execution_count": null,
   "metadata": {
    "colab": {
     "base_uri": "https://localhost:8080/",
     "height": 350
    },
    "colab_type": "code",
    "id": "FwcrcI2091z2",
    "outputId": "9bb3c2d9-0811-4765-a2ed-b49c9af622c6"
   },
   "outputs": [],
   "source": [
    "import matplotlib.pyplot as plt\n",
    "\n",
    "fig, ax = plt.subplots(figsize=[14, 5])\n",
    "plt.plot(accuracy_history_test, label='accucacy on test set')\n",
    "plt.plot(accuracy_history_train, label='accucacy on train set')\n",
    "plt.legend(loc='best')\n",
    "plt.title('Accuracy on train and test set on each epoch')\n",
    "plt.grid('True')\n",
    "plt.xlabel('Epoch')\n",
    "plt.ylabel('Accuracy')"
   ]
  },
  {
   "cell_type": "code",
   "execution_count": null,
   "metadata": {},
   "outputs": [],
   "source": [
    "net = net.eval()"
   ]
  },
  {
   "cell_type": "code",
   "execution_count": null,
   "metadata": {},
   "outputs": [],
   "source": [
    "torch.save(net, 'MNIST_net.pth')"
   ]
  },
  {
   "cell_type": "code",
   "execution_count": null,
   "metadata": {},
   "outputs": [],
   "source": [
    "quit()"
   ]
  }
 ],
 "metadata": {
  "accelerator": "GPU",
  "anaconda-cloud": {},
  "colab": {
   "collapsed_sections": [],
   "name": "Lab2_DL_part1.ipynb",
   "provenance": []
  },
  "kernelspec": {
   "display_name": "Python 3",
   "language": "python",
   "name": "python3"
  },
  "language_info": {
   "codemirror_mode": {
    "name": "ipython",
    "version": 3
   },
   "file_extension": ".py",
   "mimetype": "text/x-python",
   "name": "python",
   "nbconvert_exporter": "python",
   "pygments_lexer": "ipython3",
   "version": "3.7.4"
  }
 },
 "nbformat": 4,
 "nbformat_minor": 1
}
