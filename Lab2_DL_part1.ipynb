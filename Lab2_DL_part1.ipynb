{
 "cells": [
  {
   "cell_type": "markdown",
   "metadata": {},
   "source": [
    "## Lab 3"
   ]
  },
  {
   "cell_type": "markdown",
   "metadata": {},
   "source": [
    "### Part 1. Overfit it (1.5 points)"
   ]
  },
  {
   "cell_type": "markdown",
   "metadata": {},
   "source": [
    "Будем работать с датасетом [Fashion-MNIST](https://github.com/zalandoresearch/fashion-mnist) (*hint: он доступен в torchvision*).\n",
    "\n",
    "Ваша задача состоит в следующем:\n",
    "1. Обучить сеть, которая покажет >= 0.92 test accuracy.\n",
    "2. Пронаблюдать и продемонстрировать процесс переобучения сети с увеличением числа параметров (==нейронов) и/или числа слоев и продемонстрировать это наглядно (например, на графиках).\n",
    "3. Попробовать частично справиться с переобучением с помощью подходящих приемов (Dropout/batchnorm/augmentation etc.)\n",
    "\n",
    "*Примечание*: Пункты 2 и 3 взаимосвязаны, в п.3 Вам прелагается сделать полученную в п.2 сеть менее склонной к переобучению. Пункт 1 является независимым от пунктов 2 и 3."
   ]
  },
  {
   "cell_type": "markdown",
   "metadata": {},
   "source": [
    "### Часть 1. Обучить сеть, которая покажет >= 0.92 test accuracy."
   ]
  },
  {
   "cell_type": "code",
   "execution_count": 1,
   "metadata": {},
   "outputs": [],
   "source": [
    "import torch\n",
    "import random\n",
    "import numpy as np\n",
    "\n",
    "random.seed(0)\n",
    "np.random.seed(0)\n",
    "torch.manual_seed(0)\n",
    "torch.cuda.manual_seed(0)\n",
    "torch.backends.cudnn.deterministic = True"
   ]
  },
  {
   "cell_type": "code",
   "execution_count": 2,
   "metadata": {},
   "outputs": [],
   "source": [
    "import torchvision.datasets"
   ]
  },
  {
   "cell_type": "code",
   "execution_count": 3,
   "metadata": {},
   "outputs": [],
   "source": [
    "train = torchvision.datasets.FashionMNIST('./', download=True, train=True)\n",
    "test = torchvision.datasets.FashionMNIST('./', download=True, train=False)"
   ]
  },
  {
   "cell_type": "code",
   "execution_count": 4,
   "metadata": {},
   "outputs": [
    {
     "name": "stderr",
     "output_type": "stream",
     "text": [
      "/home/matvey/anaconda3/lib/python3.7/site-packages/torchvision/datasets/mnist.py:53: UserWarning: train_data has been renamed data\n",
      "  warnings.warn(\"train_data has been renamed data\")\n",
      "/home/matvey/anaconda3/lib/python3.7/site-packages/torchvision/datasets/mnist.py:43: UserWarning: train_labels has been renamed targets\n",
      "  warnings.warn(\"train_labels has been renamed targets\")\n",
      "/home/matvey/anaconda3/lib/python3.7/site-packages/torchvision/datasets/mnist.py:58: UserWarning: test_data has been renamed data\n",
      "  warnings.warn(\"test_data has been renamed data\")\n",
      "/home/matvey/anaconda3/lib/python3.7/site-packages/torchvision/datasets/mnist.py:48: UserWarning: test_labels has been renamed targets\n",
      "  warnings.warn(\"test_labels has been renamed targets\")\n"
     ]
    }
   ],
   "source": [
    "X_train = train.train_data\n",
    "y_train = train.train_labels\n",
    "X_test = test.test_data\n",
    "y_test = test.test_labels"
   ]
  },
  {
   "cell_type": "code",
   "execution_count": 5,
   "metadata": {},
   "outputs": [],
   "source": [
    "class LeNet5(torch.nn.Module):\n",
    "    def __init__(self,\n",
    "                 activation='relu',\n",
    "                 pooling='max',\n",
    "                 conv_size=5,\n",
    "                 use_batch_norm=True):\n",
    "        super(LeNet5, self).__init__()\n",
    "        \n",
    "        self.conv_size = conv_size\n",
    "        self.use_batch_norm = use_batch_norm\n",
    "        \n",
    "        if activation == 'tanh':\n",
    "            activation_function = torch.nn.Tanh()\n",
    "        elif activation == 'relu':\n",
    "            activation_function  = torch.nn.ReLU()\n",
    "        else:\n",
    "            raise NotImplementedError\n",
    "            \n",
    "        if pooling == 'avg':\n",
    "            pooling_layer = torch.nn.AvgPool2d(kernel_size=2, stride=2)\n",
    "        elif pooling == 'max':\n",
    "            pooling_layer  = torch.nn.MaxPool2d(kernel_size=2, stride=2)\n",
    "        else:\n",
    "            raise NotImplementedError\n",
    "        \n",
    "        if conv_size == 5:\n",
    "            self.conv1 = torch.nn.Conv2d(\n",
    "                in_channels=1, out_channels=6, kernel_size=5, padding=2)\n",
    "        elif conv_size == 3:\n",
    "            self.conv1_1 = torch.nn.Conv2d(\n",
    "                in_channels=1, out_channels=6, kernel_size=3, padding=1)\n",
    "            self.conv1_2 = torch.nn.Conv2d(\n",
    "                in_channels=6, out_channels=6, kernel_size=3, padding=1)\n",
    "        else:\n",
    "            raise NotImplementedError\n",
    "\n",
    "        self.act1 = activation_function\n",
    "        self.bn1 = torch.nn.BatchNorm2d(num_features=6)\n",
    "        self.pool1 = pooling_layer\n",
    "       \n",
    "        if conv_size == 5:\n",
    "            self.conv2 = self.conv2 = torch.nn.Conv2d(\n",
    "                in_channels=6, out_channels=16, kernel_size=5, padding=0)\n",
    "        elif conv_size == 3:\n",
    "            self.conv2_1 = torch.nn.Conv2d(\n",
    "                in_channels=6, out_channels=16, kernel_size=3, padding=0)\n",
    "            self.conv2_2 = torch.nn.Conv2d(\n",
    "                in_channels=16, out_channels=16, kernel_size=3, padding=0)\n",
    "        else:\n",
    "            raise NotImplementedError\n",
    "\n",
    "        self.act2 = activation_function\n",
    "        self.bn2 = torch.nn.BatchNorm2d(num_features=16)\n",
    "        self.pool2 = pooling_layer\n",
    "        \n",
    "        self.fc1 = torch.nn.Linear(5 * 5 * 16, 120)\n",
    "        self.act3 = activation_function\n",
    "    \n",
    "        self.fc2 = torch.nn.Linear(120, 84)\n",
    "        self.act4 = activation_function\n",
    "        \n",
    "        self.fc3 = torch.nn.Linear(84, 10)\n",
    "    \n",
    "    def forward(self, x):\n",
    "        if self.conv_size == 5:\n",
    "            x = self.conv1(x)\n",
    "        elif self.conv_size == 3:\n",
    "            x = self.conv1_2(self.conv1_1(x))\n",
    "        x = self.act1(x)\n",
    "        if self.use_batch_norm:\n",
    "            x = self.bn1(x)\n",
    "        x = self.pool1(x)\n",
    "        \n",
    "        if self.conv_size == 5:\n",
    "            x = self.conv2(x)\n",
    "        elif self.conv_size == 3:\n",
    "            x = self.conv2_2(self.conv2_1(x))\n",
    "        x = self.act2(x)\n",
    "        if self.use_batch_norm:\n",
    "            x = self.bn2(x)\n",
    "        x = self.pool2(x)\n",
    "        \n",
    "        x = x.view(x.size(0), x.size(1) * x.size(2) * x.size(3))\n",
    "        x = self.fc1(x)\n",
    "        x = self.act3(x)\n",
    "        x = self.fc2(x)\n",
    "        x = self.act4(x)\n",
    "        x = self.fc3(x)\n",
    "        \n",
    "        return x"
   ]
  },
  {
   "cell_type": "code",
   "execution_count": 6,
   "metadata": {},
   "outputs": [],
   "source": [
    "lenet5 = LeNet5()"
   ]
  },
  {
   "cell_type": "code",
   "execution_count": 7,
   "metadata": {},
   "outputs": [],
   "source": [
    "device = torch.device('cuda:0' if torch.cuda.is_available() else 'cpu')\n",
    "lenet5 = lenet5.to(device)"
   ]
  },
  {
   "cell_type": "code",
   "execution_count": 8,
   "metadata": {},
   "outputs": [],
   "source": [
    "loss = torch.nn.CrossEntropyLoss()\n",
    "optimizer = torch.optim.Adam(lenet5.parameters(), lr=1.0e-3)"
   ]
  },
  {
   "cell_type": "code",
   "execution_count": 9,
   "metadata": {},
   "outputs": [],
   "source": [
    "from sklearn.model_selection import train_test_split\n",
    "\n",
    "\n",
    "X_test = X_test.unsqueeze(1).float()\n",
    "\n",
    "#X_train, X_val, y_train, y_val = train_test_split(X_train, \n",
    "#                                                    y_train, \n",
    "#                                                    test_size=0.1, \n",
    "#                                                    random_state=42)\n",
    "\n",
    "X_train = X_train.unsqueeze(1).float()\n",
    "#X_val = X_val.unsqueeze(1).float()"
   ]
  },
  {
   "cell_type": "code",
   "execution_count": 10,
   "metadata": {},
   "outputs": [
    {
     "name": "stdout",
     "output_type": "stream",
     "text": [
      "Epoch: 0         acc_train: 0.8737\n",
      "Epoch: 1         acc_train: 0.8945\n",
      "Epoch: 2         acc_train: 0.8934\n",
      "Epoch: 3         acc_train: 0.9031\n",
      "Epoch: 4         acc_train: 0.9007\n",
      "Epoch: 5         acc_train: 0.905\n",
      "Epoch: 6         acc_train: 0.9036\n",
      "Epoch: 7         acc_train: 0.8975\n",
      "Epoch: 8         acc_train: 0.9075\n",
      "Epoch: 9         acc_train: 0.9038\n",
      "Epoch: 10         acc_train: 0.9056\n",
      "Epoch: 11         acc_train: 0.9022\n",
      "Epoch: 12         acc_train: 0.9027\n",
      "Epoch: 13         acc_train: 0.9024\n",
      "Epoch: 14         acc_train: 0.8962\n",
      "Epoch: 15         acc_train: 0.8979\n",
      "Epoch: 16         acc_train: 0.9\n",
      "Epoch: 17         acc_train: 0.9002\n",
      "Epoch: 18         acc_train: 0.9033\n",
      "Epoch: 19         acc_train: 0.8966\n"
     ]
    }
   ],
   "source": [
    "batch_size = 64\n",
    "\n",
    "test_accuracy_history = []\n",
    "test_loss_history = []\n",
    "\n",
    "X_test = X_test.to(device)\n",
    "y_test = y_test.to(device)\n",
    "\n",
    "\n",
    "#X_val = X_val.to(device)\n",
    "#y_val = y_val.to(device)\n",
    "\n",
    "\n",
    "\n",
    "for epoch in range(20):\n",
    "    order = np.random.permutation(len(X_train))\n",
    "    for start_index in range(0, len(X_train), batch_size):\n",
    "        optimizer.zero_grad()\n",
    "        \n",
    "        batch_indexes = order[start_index:start_index+batch_size]\n",
    "        \n",
    "        X_batch = X_train[batch_indexes].to(device)\n",
    "        y_batch = y_train[batch_indexes].to(device)\n",
    "        \n",
    "        preds = lenet5.forward(X_batch) \n",
    "        \n",
    "        loss_value = loss(preds, y_batch)\n",
    "        loss_value.backward()\n",
    "        \n",
    "        optimizer.step()\n",
    "        \n",
    "    test_preds = lenet5.forward(X_test)\n",
    "    test_loss_history.append(loss(test_preds, y_test).data.cpu())\n",
    "    \n",
    "    accuracy = float((test_preds.argmax(dim=1) == y_test).float().mean().data.cpu())\n",
    "    test_accuracy_history.append(accuracy)\n",
    "    \n",
    "    #val_preds = lenet5.forward(X_val)    \n",
    "    #accuracy_val = float((val_preds.argmax(dim=1) == y_val).float().mean().data.cpu())\n",
    "    \n",
    "    print('Epoch:', epoch, '        acc_train:', np.round(accuracy, 4))"
   ]
  },
  {
   "cell_type": "code",
   "execution_count": null,
   "metadata": {},
   "outputs": [],
   "source": []
  }
 ],
 "metadata": {
  "anaconda-cloud": {},
  "kernelspec": {
   "display_name": "Python 3",
   "language": "python",
   "name": "python3"
  },
  "language_info": {
   "codemirror_mode": {
    "name": "ipython",
    "version": 3
   },
   "file_extension": ".py",
   "mimetype": "text/x-python",
   "name": "python",
   "nbconvert_exporter": "python",
   "pygments_lexer": "ipython3",
   "version": "3.7.4"
  }
 },
 "nbformat": 4,
 "nbformat_minor": 2
}
