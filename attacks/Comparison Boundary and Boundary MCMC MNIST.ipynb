{
 "cells": [
  {
   "cell_type": "code",
   "execution_count": 1,
   "metadata": {},
   "outputs": [],
   "source": [
    "import torch\n",
    "import torchvision\n",
    "from torchvision import transforms\n",
    "import random\n",
    "import numpy as np\n",
    "import matplotlib.pyplot as plt"
   ]
  },
  {
   "cell_type": "code",
   "execution_count": 2,
   "metadata": {},
   "outputs": [],
   "source": [
    "random.seed(0)\n",
    "np.random.seed(0)\n",
    "torch.manual_seed(0)\n",
    "torch.cuda.manual_seed(0)\n",
    "torch.backends.cudnn.deterministic = True"
   ]
  },
  {
   "cell_type": "code",
   "execution_count": 3,
   "metadata": {},
   "outputs": [],
   "source": [
    "#напишем нашу свёрточную нейронную сеть. 4 сверточных слоя 3x3 с maxpool и батч-норм.\n",
    "#также три полносвязанных слоя, с дропаутом после каждого\n",
    "#в целом, попытался регулиризовать нейронку с помощью аугментации, батч-норм и дропаута\n",
    "\n",
    "class MyNet(torch.nn.Module):\n",
    "    def __init__(self):\n",
    "        super(MyNet, self).__init__()\n",
    "\n",
    "        self.conv1 = torch.nn.Conv2d(in_channels=1, out_channels=16, kernel_size=3, padding=1)\n",
    "        self.act1 = torch.nn.ReLU()\n",
    "        self.bn1 = torch.nn.BatchNorm2d(num_features=16)\n",
    "        self.pool1 = torch.nn.MaxPool2d(kernel_size=2, stride=2)\n",
    "       \n",
    "        self.conv2 = torch.nn.Conv2d(in_channels=16, out_channels=32, kernel_size=3, padding=1)\n",
    "        self.act2 = torch.nn.ReLU()\n",
    "        self.bn2 = torch.nn.BatchNorm2d(num_features=32)\n",
    "        self.pool2 = torch.nn.MaxPool2d(kernel_size=2, stride=2)\n",
    "\n",
    "        self.conv3 = torch.nn.Conv2d(in_channels=32, out_channels=64, kernel_size=3, padding=1)\n",
    "        self.act3 = torch.nn.ReLU()\n",
    "        self.bn3 = torch.nn.BatchNorm2d(num_features=64)\n",
    "        self.pool3 = torch.nn.MaxPool2d(kernel_size=2, stride=2)\n",
    "\n",
    "        self.conv4 = torch.nn.Conv2d(in_channels=64, out_channels=128, kernel_size=3, padding=1)\n",
    "        self.act4 = torch.nn.LeakyReLU()\n",
    "        self.bn4 = torch.nn.BatchNorm2d(num_features=128)\n",
    "        self.pool4 = torch.nn.MaxPool2d(kernel_size=3, stride=3)\n",
    "\n",
    "        self.fc1 = torch.nn.Linear(128, 80)\n",
    "        self.act5 = torch.nn.LeakyReLU()\n",
    "        self.dropout1 = torch.nn.Dropout(0.5)\n",
    "\n",
    "        self.fc2 = torch.nn.Linear(80, 80)\n",
    "        self.act6 = torch.nn.LeakyReLU()\n",
    "        self.dropout2 = torch.nn.Dropout(0.5)\n",
    "\n",
    "        self.fc3 = torch.nn.Linear(80, 80)\n",
    "        self.act7 = torch.nn.Tanh()\n",
    "        self.dropout3 = torch.nn.Dropout(0.5)     \n",
    "\n",
    "        self.fc4 = torch.nn.Linear(80, 10)\n",
    "    \n",
    "    def forward(self, x):\n",
    "\n",
    "        x = self.conv1(x)\n",
    "        x = self.act1(x)\n",
    "        x = self.bn1(x)\n",
    "        x = self.pool1(x)\n",
    "\n",
    "        x = self.conv2(x)\n",
    "        x = self.act2(x)\n",
    "        x = self.bn2(x)\n",
    "        x = self.pool2(x)\n",
    "\n",
    "        x = self.conv3(x)\n",
    "        x = self.act3(x)\n",
    "        x = self.bn3(x)\n",
    "        x = self.pool3(x)\n",
    "\n",
    "        x = self.conv4(x)\n",
    "        x = self.act4(x)\n",
    "        x = self.bn4(x)\n",
    "        x = self.pool4(x)\n",
    "\n",
    "        x = x.view(x.size(0), x.size(1) * x.size(2) * x.size(3))\n",
    "\n",
    "        x = self.fc1(x)\n",
    "        x = self.act5(x)\n",
    "        x = self.dropout1(x)\n",
    "\n",
    "        x = self.fc2(x)\n",
    "        x = self.act6(x)\n",
    "        x = self.dropout2(x)\n",
    "\n",
    "        x = self.fc3(x)\n",
    "        x = self.act7(x)\n",
    "        x = self.dropout3(x)\n",
    "\n",
    "        x = self.fc4(x)\n",
    "        \n",
    "        return x"
   ]
  },
  {
   "cell_type": "code",
   "execution_count": 4,
   "metadata": {},
   "outputs": [
    {
     "data": {
      "text/plain": [
       "MyNet(\n",
       "  (conv1): Conv2d(1, 16, kernel_size=(3, 3), stride=(1, 1), padding=(1, 1))\n",
       "  (act1): ReLU()\n",
       "  (bn1): BatchNorm2d(16, eps=1e-05, momentum=0.1, affine=True, track_running_stats=True)\n",
       "  (pool1): MaxPool2d(kernel_size=2, stride=2, padding=0, dilation=1, ceil_mode=False)\n",
       "  (conv2): Conv2d(16, 32, kernel_size=(3, 3), stride=(1, 1), padding=(1, 1))\n",
       "  (act2): ReLU()\n",
       "  (bn2): BatchNorm2d(32, eps=1e-05, momentum=0.1, affine=True, track_running_stats=True)\n",
       "  (pool2): MaxPool2d(kernel_size=2, stride=2, padding=0, dilation=1, ceil_mode=False)\n",
       "  (conv3): Conv2d(32, 64, kernel_size=(3, 3), stride=(1, 1), padding=(1, 1))\n",
       "  (act3): ReLU()\n",
       "  (bn3): BatchNorm2d(64, eps=1e-05, momentum=0.1, affine=True, track_running_stats=True)\n",
       "  (pool3): MaxPool2d(kernel_size=2, stride=2, padding=0, dilation=1, ceil_mode=False)\n",
       "  (conv4): Conv2d(64, 128, kernel_size=(3, 3), stride=(1, 1), padding=(1, 1))\n",
       "  (act4): LeakyReLU(negative_slope=0.01)\n",
       "  (bn4): BatchNorm2d(128, eps=1e-05, momentum=0.1, affine=True, track_running_stats=True)\n",
       "  (pool4): MaxPool2d(kernel_size=3, stride=3, padding=0, dilation=1, ceil_mode=False)\n",
       "  (fc1): Linear(in_features=128, out_features=80, bias=True)\n",
       "  (act5): LeakyReLU(negative_slope=0.01)\n",
       "  (dropout1): Dropout(p=0.5, inplace=False)\n",
       "  (fc2): Linear(in_features=80, out_features=80, bias=True)\n",
       "  (act6): LeakyReLU(negative_slope=0.01)\n",
       "  (dropout2): Dropout(p=0.5, inplace=False)\n",
       "  (fc3): Linear(in_features=80, out_features=80, bias=True)\n",
       "  (act7): Tanh()\n",
       "  (dropout3): Dropout(p=0.5, inplace=False)\n",
       "  (fc4): Linear(in_features=80, out_features=10, bias=True)\n",
       ")"
      ]
     },
     "execution_count": 4,
     "metadata": {},
     "output_type": "execute_result"
    }
   ],
   "source": [
    "net = torch.load('/home/matvey/Morozov/Научрук/Диплом/Diploma-Thesis/Модель/Models/MNIST_net.pth', map_location=torch.device('cpu'))\n",
    "net = net.to('cpu')\n",
    "net.eval()"
   ]
  },
  {
   "cell_type": "code",
   "execution_count": 5,
   "metadata": {},
   "outputs": [],
   "source": [
    "test_tf = transforms.Compose([\n",
    "    transforms.ToTensor()\n",
    "])\n",
    "\n",
    "test = torchvision.datasets.MNIST('/home/matvey/Morozov/Научрук/Диплом/Diploma-Thesis/Модель/Datasets', download=False, train=False, transform=test_tf)\n",
    "testloader = torch.utils.data.DataLoader(dataset=test, batch_size=256, shuffle=False)"
   ]
  },
  {
   "cell_type": "code",
   "execution_count": 6,
   "metadata": {},
   "outputs": [],
   "source": [
    "labels = {\n",
    "0 : 'T-shirt/top',\n",
    "1 : 'Trouser',\n",
    "2 : 'Pullover',\n",
    "3 : 'Dress',\n",
    "4 : 'Coat',\n",
    "5 : 'Sandal',\n",
    "6 : 'Shirt',\n",
    "7 : 'Sneaker',\n",
    "8 : 'Bag',\n",
    "9 : 'Ankle boot'\n",
    "}"
   ]
  },
  {
   "cell_type": "code",
   "execution_count": 7,
   "metadata": {},
   "outputs": [],
   "source": [
    "from numpy.linalg import norm\n",
    "from scipy.special import softmax\n",
    "\n",
    "examples = enumerate(testloader)\n",
    "batch_idx, (example_data, example_targets) = next(examples)"
   ]
  },
  {
   "cell_type": "code",
   "execution_count": 8,
   "metadata": {},
   "outputs": [],
   "source": [
    "train = torchvision.datasets.MNIST('/home/matvey/Morozov/Научрук/Диплом/Diploma-Thesis/Модель/Datasets', download=False, train=True, transform=test_tf)\n",
    "trainloader = torch.utils.data.DataLoader(dataset=test, batch_size=10000, shuffle=False)"
   ]
  },
  {
   "cell_type": "code",
   "execution_count": 9,
   "metadata": {},
   "outputs": [],
   "source": [
    "train_examples = enumerate(trainloader)\n",
    "batch_idx, (train_data, train_targets) = next(train_examples)"
   ]
  },
  {
   "cell_type": "code",
   "execution_count": 10,
   "metadata": {},
   "outputs": [],
   "source": [
    "from boundary_MCMC import boundary_attack_MCMC\n",
    "from boundary import boundary_attack"
   ]
  },
  {
   "cell_type": "code",
   "execution_count": 11,
   "metadata": {},
   "outputs": [],
   "source": [
    "def nearest_image(image, label, train_data, train_targets):\n",
    "    image = image.data.cpu().numpy()[0]\n",
    "    all_norm = []\n",
    "    for i, train_image in enumerate(train_data):\n",
    "        if train_targets[i].data.cpu().numpy() != label:\n",
    "            train_image = train_image.data.cpu().numpy()\n",
    "            diff = train_image - image\n",
    "            norm_diff = norm(diff)\n",
    "            all_norm.append(norm_diff)\n",
    "        else:\n",
    "            all_norm.append(1e20)            \n",
    "\n",
    "    index = np.argmin(all_norm)\n",
    "    return index"
   ]
  },
  {
   "cell_type": "markdown",
   "metadata": {},
   "source": [
    "#### Boundary attack"
   ]
  },
  {
   "cell_type": "code",
   "execution_count": 12,
   "metadata": {},
   "outputs": [
    {
     "name": "stdout",
     "output_type": "stream",
     "text": [
      "Start boundary attack\n",
      "distance: 0.0000, itetarion: 5001\n",
      "Start boundary attack\n",
      "distance: 0.5619, itetarion: 5001\n",
      "Start boundary attack\n",
      "distance: 0.6263, itetarion: 5001\n",
      "Start boundary attack\n",
      "distance: 0.0000, itetarion: 5001\n",
      "Start boundary attack\n",
      "distance: 0.3193, itetarion: 5001\n",
      "Start boundary attack\n",
      "distance: 0.5181, itetarion: 5001\n",
      "Start boundary attack\n",
      "distance: 0.6271, itetarion: 5001\n",
      "Start boundary attack\n",
      "distance: 0.5064, itetarion: 5001\n",
      "Start boundary attack\n",
      "distance: 0.6245, itetarion: 5001\n",
      "Start boundary attack\n",
      "distance: 0.4559, itetarion: 5001\n",
      "Start boundary attack\n",
      "distance: 0.6131, itetarion: 5001\n",
      "Start boundary attack\n",
      "distance: 0.4260, itetarion: 5001\n",
      "Start boundary attack\n",
      "distance: 0.3828, itetarion: 5001\n",
      "Start boundary attack\n",
      "distance: 0.5558, itetarion: 5001\n",
      "Start boundary attack\n",
      "distance: 0.0000, itetarion: 5001\n",
      "Start boundary attack\n",
      "distance: 0.4061, itetarion: 5001\n",
      "Start boundary attack\n",
      "distance: 0.5479, itetarion: 5001\n",
      "Start boundary attack\n",
      "distance: 0.0000, itetarion: 5001\n",
      "Start boundary attack\n",
      "distance: 0.0354, itetarion: 5001\n",
      "Start boundary attack\n",
      "distance: 0.4466, itetarion: 5001\n",
      "Start boundary attack\n",
      "distance: 0.2793, itetarion: 5001\n",
      "Start boundary attack\n",
      "distance: 0.4863, itetarion: 5001\n",
      "Start boundary attack\n",
      "distance: 0.4579, itetarion: 5001\n",
      "Start boundary attack\n",
      "distance: 0.5556, itetarion: 5001\n",
      "Start boundary attack\n",
      "distance: 0.4136, itetarion: 5001\n",
      "Start boundary attack\n",
      "distance: 0.6240, itetarion: 5001\n",
      "Start boundary attack\n",
      "distance: 0.5019, itetarion: 5001\n",
      "Start boundary attack\n",
      "distance: 0.4424, itetarion: 5001\n",
      "Start boundary attack\n",
      "distance: 0.4581, itetarion: 5001\n",
      "Start boundary attack\n",
      "distance: 0.0000, itetarion: 5001\n"
     ]
    }
   ],
   "source": [
    "i = 0\n",
    "\n",
    "l1_norm = []\n",
    "l2_norm = []\n",
    "probs_init = []\n",
    "probs_adv = []\n",
    "\n",
    "while True:\n",
    "    class_label = example_targets[i].data.numpy()\n",
    "    image = example_data[i]\n",
    "    label = example_targets[i].data.numpy()\n",
    "\n",
    "    prediction = net(torch.tensor(image.reshape(1, 1, 28, 28))).data.numpy()\n",
    "    prob_init = np.max(softmax(prediction))\n",
    "\n",
    "    index = nearest_image(image, label, train_data, train_targets)\n",
    "    x_init = train_data[index].data.numpy().reshape(28,28)\n",
    "    x_target = example_data[i].data.numpy().reshape(28,28)\n",
    "\n",
    "    adv_example, proba = boundary_attack(net, x_init, x_target, threshold=None, verbose=1, max_iter=5e3)\n",
    "\n",
    "    l1 = np.linalg.norm(adv_example - x_target, ord=1)\n",
    "    l2 = np.linalg.norm(adv_example - x_target, ord=2)\n",
    "    probs_init.append(prob_init)\n",
    "    probs_adv.append(proba)\n",
    "    l1_norm.append(l1)\n",
    "    l2_norm.append(l2)\n",
    "    \n",
    "    i += 1\n",
    "    \n",
    "    if i >= 30:\n",
    "        break"
   ]
  },
  {
   "cell_type": "code",
   "execution_count": 13,
   "metadata": {},
   "outputs": [
    {
     "name": "stdout",
     "output_type": "stream",
     "text": [
      "[8.530421231023187e-25, 2.0381643403446326, 1.964762841531189, 1.2066007734064625e-24, 1.0160556162820247, 1.825400314559647, 2.069057918945413, 1.7835189964439684, 2.315070623729047, 1.5414661131833163, 1.9856636945487698, 1.4965543131593129, 1.4624877410831185, 2.057409067882522, 7.969079549099725e-24, 1.3314506196938318, 2.1119457542188607, 4.625575031541875e-24, 0.11754995567576962, 1.696884014480543, 0.917818175641165, 1.88135969097396, 1.5868596985903127, 1.9615953637107904, 1.3397990021120032, 2.0831790635303156, 1.8947247126835718, 1.6551517516835874, 1.6332683814006301, 6.5501697368435195e-25]\n",
      "[4.0144824409809235e-25, 0.5619416133992006, 0.6263076042201527, 9.714064478509077e-25, 0.3193172456190429, 0.5180831186287789, 0.6271141146536138, 0.5064044323973793, 0.6245324296144855, 0.45587039917925665, 0.6131055510003879, 0.42602888241196, 0.38282692083696257, 0.5557966510461799, 6.526212863116642e-24, 0.40613217616121516, 0.5479338690878782, 3.326644174773888e-24, 0.035372424245698184, 0.44659772133776293, 0.2793002651462665, 0.4862995617081352, 0.4578970889411344, 0.5556381994475821, 0.41364518447334586, 0.6240095281198283, 0.5018793779991207, 0.44237211393576303, 0.4580832027484805, 4.222819449456638e-25]\n",
      "[0.99949753, 0.99963194, 0.9997187, 0.9998827, 0.99865717, 0.9997187, 0.9986457, 0.99856764, 0.99957097, 0.9985496, 0.9998808, 0.99930596, 0.99855906, 0.9998703, 0.9997178, 0.9995214, 0.99856764, 0.9994966, 0.47776127, 0.9986867, 0.9985372, 0.56007946, 0.99932885, 0.999529, 0.998681, 0.9998779, 0.9994947, 0.9986867, 0.9998808, 0.9997178]\n",
      "[0.99949753, 0.38815942, 0.48589966, 0.9998827, 0.5135203, 0.49904105, 0.4672622, 0.4852067, 0.23184945, 0.47982812, 0.26538652, 0.50334257, 0.5338213, 0.20655417, 0.9997178, 0.5019725, 0.4891097, 0.9994966, 0.24852438, 0.498121, 0.4973876, 0.39096212, 0.48620385, 0.49364752, 0.5760505, 0.22465573, 0.16813596, 0.49873275, 0.18015438, 0.9997178]\n"
     ]
    }
   ],
   "source": [
    "print(l1_norm)\n",
    "print(l2_norm)\n",
    "print(probs_init)\n",
    "print(probs_adv)"
   ]
  },
  {
   "cell_type": "markdown",
   "metadata": {},
   "source": [
    "### Boundary MCMC"
   ]
  },
  {
   "cell_type": "code",
   "execution_count": 14,
   "metadata": {},
   "outputs": [
    {
     "name": "stdout",
     "output_type": "stream",
     "text": [
      "Start boundary attack\n",
      "distance: 0.0000, itetarion: 20001, alpha: 1.000, probability: 0.999\n",
      "Start boundary attack\n",
      "distance: 0.5629, itetarion: 11143, alpha: 0.455, probability: 0.409\n",
      "Start boundary attack\n",
      "distance: 0.6266, itetarion: 1333, alpha: 0.601, probability: 0.499\n",
      "Start boundary attack\n",
      "distance: 0.0000, itetarion: 1, alpha: 1.000, probability: 1.000\n",
      "Start boundary attack\n",
      "distance: 0.3192, itetarion: 9174, alpha: 0.512, probability: 0.504\n",
      "Start boundary attack\n",
      "distance: 0.5182, itetarion: 7723, alpha: 0.575, probability: 0.498\n",
      "Start boundary attack\n",
      "distance: 0.6289, itetarion: 8864, alpha: 0.703, probability: 0.469\n",
      "Start boundary attack\n",
      "distance: 0.5326, itetarion: 20001, alpha: 0.594, probability: 0.487\n",
      "Start boundary attack\n",
      "distance: 0.6244, itetarion: 19949, alpha: 0.392, probability: 0.207\n",
      "Start boundary attack\n",
      "distance: 0.4557, itetarion: 4800, alpha: 0.538, probability: 0.441\n",
      "Start boundary attack\n",
      "distance: 0.6137, itetarion: 18797, alpha: 0.606, probability: 0.282\n",
      "Start boundary attack\n",
      "distance: 0.4267, itetarion: 12901, alpha: 0.657, probability: 0.500\n",
      "Start boundary attack\n",
      "distance: 0.3800, itetarion: 16999, alpha: 0.515, probability: 0.495\n",
      "Start boundary attack\n",
      "distance: 0.5561, itetarion: 16658, alpha: 0.404, probability: 0.285\n",
      "Start boundary attack\n",
      "distance: 0.0000, itetarion: 20001, alpha: 1.000, probability: 1.000\n",
      "Start boundary attack\n",
      "distance: 0.4090, itetarion: 5578, alpha: 0.504, probability: 0.498\n",
      "Start boundary attack\n",
      "distance: 0.5489, itetarion: 6507, alpha: 0.461, probability: 0.337\n",
      "Start boundary attack\n",
      "distance: 0.0000, itetarion: 1, alpha: 1.000, probability: 0.999\n",
      "Start boundary attack\n",
      "distance: 0.0353, itetarion: 8369, alpha: 0.736, probability: 0.251\n",
      "Start boundary attack\n",
      "distance: 0.4463, itetarion: 8461, alpha: 0.510, probability: 0.523\n",
      "Start boundary attack\n",
      "distance: 0.2766, itetarion: 9041, alpha: 0.614, probability: 0.528\n",
      "Start boundary attack\n",
      "distance: 0.4863, itetarion: 5063, alpha: 0.522, probability: 0.459\n",
      "Start boundary attack\n",
      "distance: 0.4590, itetarion: 4134, alpha: 0.448, probability: 0.255\n",
      "Start boundary attack\n",
      "distance: 0.5555, itetarion: 11305, alpha: 0.700, probability: 0.447\n",
      "Start boundary attack\n",
      "distance: 0.4163, itetarion: 1644, alpha: 0.423, probability: 0.506\n",
      "Start boundary attack\n",
      "distance: 0.6221, itetarion: 2694, alpha: 0.866, probability: 0.428\n",
      "Start boundary attack\n",
      "distance: 0.5076, itetarion: 3364, alpha: 0.409, probability: 0.301\n",
      "Start boundary attack\n",
      "distance: 0.4420, itetarion: 17263, alpha: 0.467, probability: 0.499\n",
      "Start boundary attack\n",
      "distance: 0.4739, itetarion: 20001, alpha: 0.415, probability: 0.205\n",
      "Start boundary attack\n",
      "distance: 0.0000, itetarion: 20001, alpha: 1.000, probability: 1.000\n"
     ]
    }
   ],
   "source": [
    "i = 0\n",
    "\n",
    "l1_norm_MCMC = []\n",
    "l2_norm_MCMC = []\n",
    "probs_init_MCMC = []\n",
    "probs_adv_MCMC = []\n",
    "\n",
    "while True:\n",
    "    class_label = example_targets[i].data.numpy()\n",
    "    image = example_data[i]\n",
    "    label = example_targets[i].data.numpy()\n",
    "    \n",
    "    prediction = net(torch.tensor(image.reshape(1, 1, 28, 28))).data.numpy()\n",
    "    prob_init = np.max(softmax(prediction))\n",
    "    \n",
    "    index = nearest_image(image, label, train_data, train_targets)\n",
    "    x_init = train_data[index].data.numpy().reshape(28,28)\n",
    "    x_target = example_data[i].data.numpy().reshape(28,28)\n",
    "    \n",
    "    adv_example, proba = boundary_attack_MCMC(net, x_init, x_target, threshold=l2_norm[i], max_iter=2e4, verbose=1)\n",
    "    \n",
    "    l1 = np.linalg.norm(adv_example - x_target, ord=1)\n",
    "    l2 = np.linalg.norm(adv_example - x_target, ord=2)\n",
    "    probs_init_MCMC.append(prob_init)\n",
    "    probs_adv_MCMC.append(proba)\n",
    "    l1_norm_MCMC.append(l1)\n",
    "    l2_norm_MCMC.append(l2)\n",
    "    \n",
    "    i += 1\n",
    "    \n",
    "    if i >= 30:\n",
    "        break"
   ]
  },
  {
   "cell_type": "code",
   "execution_count": 15,
   "metadata": {},
   "outputs": [
    {
     "name": "stdout",
     "output_type": "stream",
     "text": [
      "0.5103644\n"
     ]
    }
   ],
   "source": [
    "print(np.mean(probs_adv_MCMC))"
   ]
  },
  {
   "cell_type": "code",
   "execution_count": 16,
   "metadata": {},
   "outputs": [
    {
     "name": "stdout",
     "output_type": "stream",
     "text": [
      "0.51039475\n"
     ]
    }
   ],
   "source": [
    "print(np.mean(probs_adv))"
   ]
  },
  {
   "cell_type": "code",
   "execution_count": null,
   "metadata": {},
   "outputs": [],
   "source": []
  }
 ],
 "metadata": {
  "kernelspec": {
   "display_name": "Python 3",
   "language": "python",
   "name": "python3"
  },
  "language_info": {
   "codemirror_mode": {
    "name": "ipython",
    "version": 3
   },
   "file_extension": ".py",
   "mimetype": "text/x-python",
   "name": "python",
   "nbconvert_exporter": "python",
   "pygments_lexer": "ipython3",
   "version": "3.7.4"
  }
 },
 "nbformat": 4,
 "nbformat_minor": 2
}
